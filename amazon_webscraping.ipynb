{
 "cells": [
  {
   "cell_type": "code",
   "execution_count": 1,
   "id": "074f6c1c",
   "metadata": {},
   "outputs": [],
   "source": [
    "import csv\n",
    "from bs4 import BeautifulSoup\n",
    "from selenium import webdriver\n"
   ]
  },
  {
   "cell_type": "code",
   "execution_count": 2,
   "id": "2dfdb8bc",
   "metadata": {},
   "outputs": [],
   "source": [
    "\n",
    "driver = webdriver.Chrome('E:\\Programming\\chromedriver') "
   ]
  },
  {
   "cell_type": "code",
   "execution_count": 3,
   "id": "c7745bc3",
   "metadata": {},
   "outputs": [],
   "source": [
    "url = \"https://amazon.com\"\n",
    "driver.get(url)"
   ]
  },
  {
   "cell_type": "code",
   "execution_count": 4,
   "id": "2634b7e7",
   "metadata": {},
   "outputs": [],
   "source": [
    "def get_url(search_term):\n",
    "    template= 'https://www.amazon.com/s?k={}&ref=nb_sb_ss_ts-doa-p_2_6'\n",
    "    search_term = search_term.replace(' ', '+')\n",
    "    return template.format(search_term)\n"
   ]
  },
  {
   "cell_type": "code",
   "execution_count": 5,
   "id": "cd2969c9",
   "metadata": {},
   "outputs": [
    {
     "name": "stdout",
     "output_type": "stream",
     "text": [
      "https://www.amazon.com/s?k=ultrawide+monitor&ref=nb_sb_ss_ts-doa-p_2_6\n"
     ]
    }
   ],
   "source": [
    "url = get_url('ultrawide monitor')\n",
    "print(url)"
   ]
  },
  {
   "cell_type": "code",
   "execution_count": 6,
   "id": "0dbda86b",
   "metadata": {},
   "outputs": [],
   "source": [
    "driver.get(url)"
   ]
  },
  {
   "cell_type": "code",
   "execution_count": 7,
   "id": "7bbb059d",
   "metadata": {},
   "outputs": [],
   "source": [
    "soup = BeautifulSoup(driver.page_source, 'html.parser')"
   ]
  },
  {
   "cell_type": "code",
   "execution_count": 8,
   "id": "788d7f57",
   "metadata": {},
   "outputs": [],
   "source": [
    "results = soup.find_all('div',{'data-component-type': 's-search-result'})"
   ]
  },
  {
   "cell_type": "code",
   "execution_count": 9,
   "id": "42b60192",
   "metadata": {},
   "outputs": [],
   "source": [
    "item = results[0]\n",
    "atag = item.h2.a\n",
    "description = atag.text.strip()\n",
    "url='https://www.amazon.com' + atag.get('href')"
   ]
  },
  {
   "cell_type": "code",
   "execution_count": 10,
   "id": "370f8ab2",
   "metadata": {},
   "outputs": [],
   "source": [
    "price_parent = item.find('span', 'a-price')"
   ]
  },
  {
   "cell_type": "code",
   "execution_count": 11,
   "id": "fa2a47f5",
   "metadata": {},
   "outputs": [],
   "source": [
    "price = price_parent.find('span', 'a-offscreen').text"
   ]
  },
  {
   "cell_type": "code",
   "execution_count": 12,
   "id": "b816b7e3",
   "metadata": {},
   "outputs": [],
   "source": [
    "rating = item.i.text"
   ]
  },
  {
   "cell_type": "code",
   "execution_count": 13,
   "id": "f539f63b",
   "metadata": {
    "scrolled": true
   },
   "outputs": [],
   "source": [
    "review_count = item.find('span',{'class':'a-size-base'}).text"
   ]
  },
  {
   "cell_type": "code",
   "execution_count": 14,
   "id": "76faf86a",
   "metadata": {},
   "outputs": [],
   "source": [
    "## Generalize the pattern##\n",
    "def extract_record(item):\n",
    "    ##extract and return data from a single record##\n",
    "    \n",
    "    ##description & url###\n",
    "    atag = item.h2.a\n",
    "    description = atag.text.strip()\n",
    "    url='https://www.amazon.com' + atag.get('href')\n",
    "    \n",
    "    try:\n",
    "    ##price\n",
    "        price_parent = item.find('span', 'a-price')\n",
    "        price = price_parent.find('span', 'a-offscreen').text\n",
    "    except AttributeError:\n",
    "        return\n",
    "    \n",
    "    try:\n",
    "    ##rank & rating\n",
    "        rating = item.i.text\n",
    "        review_count = item.find('span',{'class':'a-size-base'}).text\n",
    "    except AttributeError:\n",
    "        rating = ''\n",
    "        review_count = ''\n",
    "    \n",
    "    result =(description, price, rating, review_count, url)\n",
    "    \n",
    "    return result"
   ]
  },
  {
   "cell_type": "code",
   "execution_count": 15,
   "id": "5d9d70e6",
   "metadata": {},
   "outputs": [],
   "source": [
    "records = []\n",
    "results = soup.find_all('div',{'data-component-type':'s-search-result'})\n",
    "for item in results:\n",
    "    record = extract_record(item)\n",
    "    if record:\n",
    "        records.append(record)"
   ]
  },
  {
   "cell_type": "code",
   "execution_count": 16,
   "id": "e3b2062e",
   "metadata": {},
   "outputs": [
    {
     "data": {
      "text/plain": [
       "('LG 32UP83A-W 31.5 Inch Class UHD (3840 x 2160) IPS Monitor with AMD FreeSync, DCI-P3 95% Color Gamut with HDR 10 Compatibility and USB Type-C, Tilt/Height/Pivot Stand – 2021',\n",
       " '$549.99',\n",
       " '4.6 out of 5 stars',\n",
       " '1,210',\n",
       " 'https://www.amazon.com/gp/slredirect/picassoRedirect.html/ref=pa_sp_atf_aps_sr_pg1_1?ie=UTF8&adId=A08728173J5KDIK28ZOV&url=%2FLG-32UP83A-W-Monitor-FreeSync-Compatibility%2Fdp%2FB09GHTPWFV%2Fref%3Dsr_1_1_sspa%3Fkeywords%3Dultrawide%2Bmonitor%26qid%3D1643009929%26sr%3D8-1-spons%26psc%3D1&qualifier=1643009929&id=3879808610983290&widgetName=sp_atf')"
      ]
     },
     "execution_count": 16,
     "metadata": {},
     "output_type": "execute_result"
    }
   ],
   "source": [
    "records[0]"
   ]
  },
  {
   "cell_type": "code",
   "execution_count": 17,
   "id": "564b947c",
   "metadata": {},
   "outputs": [
    {
     "name": "stdout",
     "output_type": "stream",
     "text": [
      "$549.99\n",
      "$429.97\n",
      "$1,199.99\n",
      "$409.99\n",
      "$234.97\n",
      "$529.98\n",
      "$1,596.99\n",
      "$279.99\n",
      "$266.99\n",
      "$799.00\n",
      "$349.99\n",
      "$452.78\n",
      "$299.99\n",
      "$467.99\n",
      "$349.99\n",
      "$499.96\n",
      "$179.99\n",
      "$437.35\n"
     ]
    }
   ],
   "source": [
    "for row in records:\n",
    "    print(row[1])"
   ]
  },
  {
   "cell_type": "code",
   "execution_count": 18,
   "id": "89878876",
   "metadata": {},
   "outputs": [],
   "source": [
    "def get_url(search_term):\n",
    "    template= 'https://www.amazon.com/s?k={}&ref=nb_sb_ss_ts-doa-p_2_6'\n",
    "    search_term = search_term.replace(' ', '+')\n",
    "    \n",
    "    url = template.format(search_term)\n",
    "    \n",
    "    url += '&page{}'\n",
    "    return url\n"
   ]
  },
  {
   "cell_type": "code",
   "execution_count": 19,
   "id": "b17739e2",
   "metadata": {},
   "outputs": [],
   "source": [
    "import csv\n",
    "from bs4 import BeautifulSoup\n",
    "from selenium import webdriver\n",
    "\n",
    "def get_url(search_term):\n",
    "    template= 'https://www.amazon.com/s?k={}&ref=nb_sb_ss_ts-doa-p_2_6'\n",
    "    search_term = search_term.replace(' ', '+')\n",
    "    \n",
    "    url = template.format(search_term)\n",
    "    \n",
    "    url += '&page{}'\n",
    "    return url\n",
    "\n",
    "def extract_record(item):\n",
    "    ##extract and return data from a single record##\n",
    "    \n",
    "    ##description & url###\n",
    "    atag = item.h2.a\n",
    "    description = atag.text.strip()\n",
    "    url='https://www.amazon.com' + atag.get('href')\n",
    "    \n",
    "    try:\n",
    "    ##price\n",
    "        price_parent = item.find('span', 'a-price')\n",
    "        price = price_parent.find('span', 'a-offscreen').text\n",
    "    except AttributeError:\n",
    "        return\n",
    "    \n",
    "    try:\n",
    "    ##rank & rating\n",
    "        rating = item.i.text\n",
    "        review_count = item.find('span',{'class':'a-size-base'}).text\n",
    "    except AttributeError:\n",
    "        rating = ''\n",
    "        review_count = ''\n",
    "    \n",
    "    result =(description, price, rating, review_count, url)\n",
    "    \n",
    "    return result\n",
    "\n",
    "def main(search_term):\n",
    "    driver = webdriver.Chrome('E:\\Programming\\chromedriver') \n",
    "    \n",
    "    record = []\n",
    "    url = get_url(search_term)\n",
    "    \n",
    "    for page in range(1,17):\n",
    "        driver.get(url.format(page))\n",
    "        soup = BeautifulSoup(driver.page_source, 'html.parser')\n",
    "        results = soup.find_all('div',{'data-component-type': 's-search-result'})\n",
    "        \n",
    "        for item in results:\n",
    "            record = extract_record(item)\n",
    "            if record:\n",
    "                records.append(record)\n",
    "                \n",
    "    driver.close()\n",
    "    \n",
    "    #save data to csv file\n",
    "    \n",
    "    with open('amazon.csv','w', newline='', encoding='utf-8') as f:\n",
    "        writer = csv.writer(f)\n",
    "        writer.writerow(['description', 'price', 'rating', 'review_count', 'url'])\n",
    "        writer.writerows(records)\n",
    "    "
   ]
  },
  {
   "cell_type": "code",
   "execution_count": 20,
   "id": "9708ec7b",
   "metadata": {},
   "outputs": [],
   "source": [
    "main('ultrawide monitor')\n"
   ]
  },
  {
   "cell_type": "code",
   "execution_count": null,
   "id": "9cb2edf2",
   "metadata": {},
   "outputs": [],
   "source": []
  }
 ],
 "metadata": {
  "kernelspec": {
   "display_name": "Python 3 (ipykernel)",
   "language": "python",
   "name": "python3"
  },
  "language_info": {
   "codemirror_mode": {
    "name": "ipython",
    "version": 3
   },
   "file_extension": ".py",
   "mimetype": "text/x-python",
   "name": "python",
   "nbconvert_exporter": "python",
   "pygments_lexer": "ipython3",
   "version": "3.9.1"
  }
 },
 "nbformat": 4,
 "nbformat_minor": 5
}
